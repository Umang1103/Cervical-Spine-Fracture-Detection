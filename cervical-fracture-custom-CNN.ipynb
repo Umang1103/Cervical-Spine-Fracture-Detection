{
 "cells": [
  {
   "cell_type": "code",
   "execution_count": 1,
   "id": "2f082d5d",
   "metadata": {
    "_cell_guid": "b1076dfc-b9ad-4769-8c92-a6c4dae69d19",
    "_uuid": "8f2839f25d086af736a60e9eeb907d3b93b6e0e5",
    "execution": {
     "iopub.execute_input": "2023-11-28T07:41:21.640580Z",
     "iopub.status.busy": "2023-11-28T07:41:21.640223Z",
     "iopub.status.idle": "2023-11-28T07:41:21.646180Z",
     "shell.execute_reply": "2023-11-28T07:41:21.645249Z"
    },
    "papermill": {
     "duration": 0.02159,
     "end_time": "2023-11-28T07:41:21.648198",
     "exception": false,
     "start_time": "2023-11-28T07:41:21.626608",
     "status": "completed"
    },
    "tags": []
   },
   "outputs": [],
   "source": [
    "# # This Python 3 environment comes with many helpful analytics libraries installed\n",
    "# # It is defined by the kaggle/python Docker image: https://github.com/kaggle/docker-python\n",
    "# # For example, here's several helpful packages to load\n",
    "\n",
    "# import numpy as np # linear algebra\n",
    "# import pandas as pd # data processing, CSV file I/O (e.g. pd.read_csv)\n",
    "\n",
    "# # Input data files are available in the read-only \"../input/\" directory\n",
    "# # For example, running this (by clicking run or pressing Shift+Enter) will list all files under the input directory\n",
    "\n",
    "# import os\n",
    "# for dirname, _, filenames in os.walk('/kaggle/input'):\n",
    "#     for filename in filenames:\n",
    "#         print(os.path.join(dirname, filename))\n",
    "\n",
    "# # You can write up to 20GB to the current directory (/kaggle/working/) that gets preserved as output when you create a version using \"Save & Run All\" \n",
    "# # You can also write temporary files to /kaggle/temp/, but they won't be saved outside of the current session"
   ]
  },
  {
   "cell_type": "code",
   "execution_count": 2,
   "id": "e1da69e5",
   "metadata": {
    "execution": {
     "iopub.execute_input": "2023-11-28T07:41:21.671880Z",
     "iopub.status.busy": "2023-11-28T07:41:21.671501Z",
     "iopub.status.idle": "2023-11-28T07:41:35.991337Z",
     "shell.execute_reply": "2023-11-28T07:41:35.990020Z"
    },
    "papermill": {
     "duration": 14.334487,
     "end_time": "2023-11-28T07:41:35.993881",
     "exception": false,
     "start_time": "2023-11-28T07:41:21.659394",
     "status": "completed"
    },
    "tags": []
   },
   "outputs": [],
   "source": [
    "#During submission internet is disabled. Hence install this package manually\n",
    "!pip install -qU ../input/for-pydicom/python_gdcm-3.0.22-cp310-cp310-manylinux_2_17_x86_64.manylinux2014_x86_64.whl ../input/for-pydicom/pylibjpeg-1.4.0-py3-none-any.whl --find-links frozen_packages --no-index"
   ]
  },
  {
   "cell_type": "code",
   "execution_count": 3,
   "id": "a93cf1bd",
   "metadata": {
    "execution": {
     "iopub.execute_input": "2023-11-28T07:41:36.017384Z",
     "iopub.status.busy": "2023-11-28T07:41:36.016593Z",
     "iopub.status.idle": "2023-11-28T07:41:46.803119Z",
     "shell.execute_reply": "2023-11-28T07:41:46.802161Z"
    },
    "papermill": {
     "duration": 10.800652,
     "end_time": "2023-11-28T07:41:46.805570",
     "exception": false,
     "start_time": "2023-11-28T07:41:36.004918",
     "status": "completed"
    },
    "tags": []
   },
   "outputs": [
    {
     "name": "stderr",
     "output_type": "stream",
     "text": [
      "/opt/conda/lib/python3.10/site-packages/scipy/__init__.py:146: UserWarning: A NumPy version >=1.16.5 and <1.23.0 is required for this version of SciPy (detected version 1.23.5\n",
      "  warnings.warn(f\"A NumPy version >={np_minversion} and <{np_maxversion}\"\n"
     ]
    }
   ],
   "source": [
    "import pandas as pd\n",
    "import numpy as np\n",
    "import pydicom as dicom\n",
    "import glob\n",
    "import nibabel as nib\n",
    "import os\n",
    "import cv2\n",
    "from tqdm import tqdm\n",
    "import tensorflow as tf\n",
    "import tensorflow.keras.layers as tfl\n",
    "from tensorflow.keras import backend as K\n",
    "from sklearn.model_selection import StratifiedKFold\n",
    "from tensorflow.keras.preprocessing.image import load_img, img_to_array\n",
    "from tensorflow.keras.applications import EfficientNetB0\n",
    "import keras\n",
    "from keras.models import Sequential\n",
    "from keras.layers import Dense, Dropout, Flatten\n",
    "from keras.layers import Conv2D, MaxPooling2D\n",
    "from keras.utils import to_categorical\n",
    "from keras.preprocessing import image\n",
    "import matplotlib.pyplot as plt\n",
    "from sklearn.model_selection import train_test_split\n"
   ]
  },
  {
   "cell_type": "code",
   "execution_count": 4,
   "id": "21bb8f0a",
   "metadata": {
    "execution": {
     "iopub.execute_input": "2023-11-28T07:41:46.829241Z",
     "iopub.status.busy": "2023-11-28T07:41:46.828648Z",
     "iopub.status.idle": "2023-11-28T07:41:47.044175Z",
     "shell.execute_reply": "2023-11-28T07:41:47.043317Z"
    },
    "papermill": {
     "duration": 0.229675,
     "end_time": "2023-11-28T07:41:47.046679",
     "exception": false,
     "start_time": "2023-11-28T07:41:46.817004",
     "status": "completed"
    },
    "tags": []
   },
   "outputs": [],
   "source": [
    "base_dir = r'/kaggle/input/rsna-2022-cervical-spine-fracture-detection'\n",
    "train_images = os.path.join(base_dir,'train_images')\n",
    "test_images = os.path.join(base_dir,'test_images')\n",
    "segmentation_data = r'/kaggle/input/rsna-cervical-fracture-segmentations-npy/npy_segmentations'\n",
    "train_data = pd.read_csv(os.path.join(base_dir,'train.csv'))\n",
    "segmentation_meta_data = pd.read_csv(r'/kaggle/input/rsna-cervical-fracture-segmentation-metadata/meta_segmentation.csv')\n"
   ]
  },
  {
   "cell_type": "code",
   "execution_count": 5,
   "id": "ae9acb28",
   "metadata": {
    "execution": {
     "iopub.execute_input": "2023-11-28T07:41:47.070806Z",
     "iopub.status.busy": "2023-11-28T07:41:47.070035Z",
     "iopub.status.idle": "2023-11-28T07:41:47.076839Z",
     "shell.execute_reply": "2023-11-28T07:41:47.076021Z"
    },
    "papermill": {
     "duration": 0.021222,
     "end_time": "2023-11-28T07:41:47.079072",
     "exception": false,
     "start_time": "2023-11-28T07:41:47.057850",
     "status": "completed"
    },
    "tags": []
   },
   "outputs": [
    {
     "data": {
      "text/plain": [
       "(29832, 26)"
      ]
     },
     "execution_count": 5,
     "metadata": {},
     "output_type": "execute_result"
    }
   ],
   "source": [
    "segmentation_meta_data.shape"
   ]
  },
  {
   "cell_type": "code",
   "execution_count": 6,
   "id": "ff7b5710",
   "metadata": {
    "execution": {
     "iopub.execute_input": "2023-11-28T07:41:47.103070Z",
     "iopub.status.busy": "2023-11-28T07:41:47.102716Z",
     "iopub.status.idle": "2023-11-28T07:41:47.109413Z",
     "shell.execute_reply": "2023-11-28T07:41:47.108579Z"
    },
    "papermill": {
     "duration": 0.021472,
     "end_time": "2023-11-28T07:41:47.111658",
     "exception": false,
     "start_time": "2023-11-28T07:41:47.090186",
     "status": "completed"
    },
    "tags": []
   },
   "outputs": [
    {
     "data": {
      "text/plain": [
       "Index(['Rows', 'Columns', 'SOPInstanceUID', 'ContentDate', 'SliceThickness',\n",
       "       'InstanceNumber', 'ImagePositionPatientX', 'ImagePositionPatientY',\n",
       "       'ImagePositionPatientZ', 'PhotometricInterpretation', 'PixelSpacingX',\n",
       "       'PixelSpacingY', 'WindowCenter', 'WindowWidth', 'RescaleIntercept',\n",
       "       'RescaleSlope', 'StudyInstanceUID', 'C1', 'C2', 'C3', 'C4', 'C5', 'C6',\n",
       "       'C7', 'Slice', 'SliceRatio'],\n",
       "      dtype='object')"
      ]
     },
     "execution_count": 6,
     "metadata": {},
     "output_type": "execute_result"
    }
   ],
   "source": [
    "segmentation_meta_data.columns"
   ]
  },
  {
   "cell_type": "code",
   "execution_count": 7,
   "id": "8e161773",
   "metadata": {
    "execution": {
     "iopub.execute_input": "2023-11-28T07:41:47.135067Z",
     "iopub.status.busy": "2023-11-28T07:41:47.134737Z",
     "iopub.status.idle": "2023-11-28T07:41:47.139422Z",
     "shell.execute_reply": "2023-11-28T07:41:47.138489Z"
    },
    "papermill": {
     "duration": 0.018652,
     "end_time": "2023-11-28T07:41:47.141567",
     "exception": false,
     "start_time": "2023-11-28T07:41:47.122915",
     "status": "completed"
    },
    "tags": []
   },
   "outputs": [],
   "source": [
    "columns = ['StudyInstanceUID','SOPInstanceUID','C1','C2','C3','C4','C5','C6','C7']"
   ]
  },
  {
   "cell_type": "code",
   "execution_count": 8,
   "id": "41a656fd",
   "metadata": {
    "execution": {
     "iopub.execute_input": "2023-11-28T07:41:47.165485Z",
     "iopub.status.busy": "2023-11-28T07:41:47.164634Z",
     "iopub.status.idle": "2023-11-28T07:41:47.182837Z",
     "shell.execute_reply": "2023-11-28T07:41:47.181991Z"
    },
    "papermill": {
     "duration": 0.03242,
     "end_time": "2023-11-28T07:41:47.185023",
     "exception": false,
     "start_time": "2023-11-28T07:41:47.152603",
     "status": "completed"
    },
    "tags": []
   },
   "outputs": [],
   "source": [
    "seg_labels = segmentation_meta_data[columns]"
   ]
  },
  {
   "cell_type": "code",
   "execution_count": 9,
   "id": "e8714189",
   "metadata": {
    "execution": {
     "iopub.execute_input": "2023-11-28T07:41:47.208880Z",
     "iopub.status.busy": "2023-11-28T07:41:47.208358Z",
     "iopub.status.idle": "2023-11-28T07:41:47.224950Z",
     "shell.execute_reply": "2023-11-28T07:41:47.223994Z"
    },
    "papermill": {
     "duration": 0.03091,
     "end_time": "2023-11-28T07:41:47.227173",
     "exception": false,
     "start_time": "2023-11-28T07:41:47.196263",
     "status": "completed"
    },
    "tags": []
   },
   "outputs": [
    {
     "data": {
      "text/html": [
       "<div>\n",
       "<style scoped>\n",
       "    .dataframe tbody tr th:only-of-type {\n",
       "        vertical-align: middle;\n",
       "    }\n",
       "\n",
       "    .dataframe tbody tr th {\n",
       "        vertical-align: top;\n",
       "    }\n",
       "\n",
       "    .dataframe thead th {\n",
       "        text-align: right;\n",
       "    }\n",
       "</style>\n",
       "<table border=\"1\" class=\"dataframe\">\n",
       "  <thead>\n",
       "    <tr style=\"text-align: right;\">\n",
       "      <th></th>\n",
       "      <th>StudyInstanceUID</th>\n",
       "      <th>SOPInstanceUID</th>\n",
       "      <th>C1</th>\n",
       "      <th>C2</th>\n",
       "      <th>C3</th>\n",
       "      <th>C4</th>\n",
       "      <th>C5</th>\n",
       "      <th>C6</th>\n",
       "      <th>C7</th>\n",
       "    </tr>\n",
       "  </thead>\n",
       "  <tbody>\n",
       "    <tr>\n",
       "      <th>0</th>\n",
       "      <td>1.2.826.0.1.3680043.1363</td>\n",
       "      <td>1.2.826.0.1.3680043.1363.1.12</td>\n",
       "      <td>0</td>\n",
       "      <td>0</td>\n",
       "      <td>0</td>\n",
       "      <td>0</td>\n",
       "      <td>0</td>\n",
       "      <td>0</td>\n",
       "      <td>0</td>\n",
       "    </tr>\n",
       "    <tr>\n",
       "      <th>1</th>\n",
       "      <td>1.2.826.0.1.3680043.1363</td>\n",
       "      <td>1.2.826.0.1.3680043.1363.1.120</td>\n",
       "      <td>0</td>\n",
       "      <td>0</td>\n",
       "      <td>0</td>\n",
       "      <td>0</td>\n",
       "      <td>1</td>\n",
       "      <td>1</td>\n",
       "      <td>0</td>\n",
       "    </tr>\n",
       "  </tbody>\n",
       "</table>\n",
       "</div>"
      ],
      "text/plain": [
       "           StudyInstanceUID                  SOPInstanceUID  C1  C2  C3  C4  \\\n",
       "0  1.2.826.0.1.3680043.1363   1.2.826.0.1.3680043.1363.1.12   0   0   0   0   \n",
       "1  1.2.826.0.1.3680043.1363  1.2.826.0.1.3680043.1363.1.120   0   0   0   0   \n",
       "\n",
       "   C5  C6  C7  \n",
       "0   0   0   0  \n",
       "1   1   1   0  "
      ]
     },
     "execution_count": 9,
     "metadata": {},
     "output_type": "execute_result"
    }
   ],
   "source": [
    "seg_labels.head(2)"
   ]
  },
  {
   "cell_type": "code",
   "execution_count": 10,
   "id": "0b92782f",
   "metadata": {
    "execution": {
     "iopub.execute_input": "2023-11-28T07:41:47.252935Z",
     "iopub.status.busy": "2023-11-28T07:41:47.252333Z",
     "iopub.status.idle": "2023-11-28T07:41:47.283781Z",
     "shell.execute_reply": "2023-11-28T07:41:47.282796Z"
    },
    "papermill": {
     "duration": 0.046269,
     "end_time": "2023-11-28T07:41:47.286200",
     "exception": false,
     "start_time": "2023-11-28T07:41:47.239931",
     "status": "completed"
    },
    "tags": []
   },
   "outputs": [
    {
     "name": "stderr",
     "output_type": "stream",
     "text": [
      "/tmp/ipykernel_26/2062957656.py:2: SettingWithCopyWarning: \n",
      "A value is trying to be set on a copy of a slice from a DataFrame.\n",
      "Try using .loc[row_indexer,col_indexer] = value instead\n",
      "\n",
      "See the caveats in the documentation: https://pandas.pydata.org/pandas-docs/stable/user_guide/indexing.html#returning-a-view-versus-a-copy\n",
      "  seg_labels.loc[:,'slice'] = seg_labels['SOPInstanceUID'].apply(lambda x:x.split('.')[-1:][0])\n"
     ]
    }
   ],
   "source": [
    "#Get Slice instance number\n",
    "seg_labels.loc[:,'slice'] = seg_labels['SOPInstanceUID'].apply(lambda x:x.split('.')[-1:][0])"
   ]
  },
  {
   "cell_type": "code",
   "execution_count": 11,
   "id": "a2830a6d",
   "metadata": {
    "execution": {
     "iopub.execute_input": "2023-11-28T07:41:47.310836Z",
     "iopub.status.busy": "2023-11-28T07:41:47.310478Z",
     "iopub.status.idle": "2023-11-28T07:41:47.316996Z",
     "shell.execute_reply": "2023-11-28T07:41:47.316127Z"
    },
    "papermill": {
     "duration": 0.020898,
     "end_time": "2023-11-28T07:41:47.319015",
     "exception": false,
     "start_time": "2023-11-28T07:41:47.298117",
     "status": "completed"
    },
    "tags": []
   },
   "outputs": [],
   "source": [
    "def load_dicom(path):\n",
    "    '''Function to load and transform DICOM images'''\n",
    "    img=dicom.dcmread(path)\n",
    "    img.PhotometricInterpretation = 'YBR_FULL'\n",
    "    data=img.pixel_array\n",
    "    data=data-np.min(data)\n",
    "    if np.max(data) != 0:\n",
    "        data=data/np.max(data)\n",
    "    data=(data*255).astype(np.uint8)        \n",
    "    return cv2.cvtColor(data.reshape(512, 512), cv2.COLOR_GRAY2RGB)"
   ]
  },
  {
   "cell_type": "code",
   "execution_count": 12,
   "id": "a7d6249f",
   "metadata": {
    "execution": {
     "iopub.execute_input": "2023-11-28T07:41:47.344193Z",
     "iopub.status.busy": "2023-11-28T07:41:47.343810Z",
     "iopub.status.idle": "2023-11-28T07:41:47.351981Z",
     "shell.execute_reply": "2023-11-28T07:41:47.351007Z"
    },
    "papermill": {
     "duration": 0.023275,
     "end_time": "2023-11-28T07:41:47.354170",
     "exception": false,
     "start_time": "2023-11-28T07:41:47.330895",
     "status": "completed"
    },
    "tags": []
   },
   "outputs": [],
   "source": [
    "def ImgDataGenerator(train_df,base_path):\n",
    "        '''Function to read dicom image path and store the images as numpy arrays'''\n",
    "        trainset = []\n",
    "        trainlabel = []\n",
    "        for i in tqdm(range(len(train_df))):\n",
    "            study_id = train_df.loc[i,'StudyInstanceUID']\n",
    "            slice_id = train_df.loc[i,'slice']+'.dcm'\n",
    "            study_path = study_id+'/'+slice_id\n",
    "            \n",
    "            path = os.path.join(base_path, study_path)\n",
    "      \n",
    "                #dc = dicom.read_file(os.path.join(path,im))\n",
    "            #if dc.file_meta.TransferSyntaxUID.name =='JPEG Lossless, Non-Hierarchical, First-Order Prediction (Process 14 [Selection Value 1])':\n",
    "            #    continue\n",
    "            img = load_dicom(path)\n",
    "            img = cv2.resize(img, (128 , 128))\n",
    "            image = img_to_array(img)\n",
    "            image = image / 255.0\n",
    "            trainset += [image]\n",
    "            cur_label = [train_df.loc[i,f'C{j}'] for j in range(1,8)]\n",
    "            trainlabel += [cur_label]\n",
    "\n",
    "                         \n",
    "                \n",
    "        return np.array(trainset), np.array(trainlabel)\n"
   ]
  },
  {
   "cell_type": "code",
   "execution_count": 13,
   "id": "1d4e3482",
   "metadata": {
    "execution": {
     "iopub.execute_input": "2023-11-28T07:41:47.378433Z",
     "iopub.status.busy": "2023-11-28T07:41:47.378120Z",
     "iopub.status.idle": "2023-11-28T07:41:47.385267Z",
     "shell.execute_reply": "2023-11-28T07:41:47.384290Z"
    },
    "papermill": {
     "duration": 0.021484,
     "end_time": "2023-11-28T07:41:47.387304",
     "exception": false,
     "start_time": "2023-11-28T07:41:47.365820",
     "status": "completed"
    },
    "tags": []
   },
   "outputs": [],
   "source": [
    "def RSNAImgArrayGenerator(ids,base_path):\n",
    "    '''Function to generate numpy array for test dataset'''\n",
    "           \n",
    "    testset=[]\n",
    "    for id in tqdm(ids):        \n",
    "        path = os.path.join(base_path, id)\n",
    "        if os.path.exists(path):\n",
    "            for im in (os.listdir(path)):\n",
    "                dc = dicom.read_file(os.path.join(path,im))\n",
    "                img=load_dicom(os.path.join(path,im))\n",
    "                img=cv2.resize(img,(128, 128))\n",
    "                image=img_to_array(img)\n",
    "                image=image/255.0\n",
    "                testset+=[image]\n",
    "    return np.array(testset)\n"
   ]
  },
  {
   "cell_type": "code",
   "execution_count": 14,
   "id": "0c2323b1",
   "metadata": {
    "execution": {
     "iopub.execute_input": "2023-11-28T07:41:47.411636Z",
     "iopub.status.busy": "2023-11-28T07:41:47.411283Z",
     "iopub.status.idle": "2023-11-28T07:41:53.013562Z",
     "shell.execute_reply": "2023-11-28T07:41:53.012730Z"
    },
    "papermill": {
     "duration": 5.617411,
     "end_time": "2023-11-28T07:41:53.016028",
     "exception": false,
     "start_time": "2023-11-28T07:41:47.398617",
     "status": "completed"
    },
    "tags": []
   },
   "outputs": [],
   "source": [
    "#Get list of study ids who doesn't have segmentation data\n",
    "non_seg_train_ids = [id for id in train_data['StudyInstanceUID'].unique() if id not in seg_labels['StudyInstanceUID'].unique()]"
   ]
  },
  {
   "cell_type": "code",
   "execution_count": 15,
   "id": "0247cfd2",
   "metadata": {
    "execution": {
     "iopub.execute_input": "2023-11-28T07:41:53.040466Z",
     "iopub.status.busy": "2023-11-28T07:41:53.040134Z",
     "iopub.status.idle": "2023-11-28T07:41:53.046313Z",
     "shell.execute_reply": "2023-11-28T07:41:53.045420Z"
    },
    "papermill": {
     "duration": 0.020651,
     "end_time": "2023-11-28T07:41:53.048310",
     "exception": false,
     "start_time": "2023-11-28T07:41:53.027659",
     "status": "completed"
    },
    "tags": []
   },
   "outputs": [
    {
     "data": {
      "text/plain": [
       "1932"
      ]
     },
     "execution_count": 15,
     "metadata": {},
     "output_type": "execute_result"
    }
   ],
   "source": [
    "len(non_seg_train_ids)"
   ]
  },
  {
   "cell_type": "code",
   "execution_count": 16,
   "id": "c0a515b2",
   "metadata": {
    "execution": {
     "iopub.execute_input": "2023-11-28T07:41:53.072307Z",
     "iopub.status.busy": "2023-11-28T07:41:53.071986Z",
     "iopub.status.idle": "2023-11-28T07:41:53.076016Z",
     "shell.execute_reply": "2023-11-28T07:41:53.075159Z"
    },
    "papermill": {
     "duration": 0.018481,
     "end_time": "2023-11-28T07:41:53.078073",
     "exception": false,
     "start_time": "2023-11-28T07:41:53.059592",
     "status": "completed"
    },
    "tags": []
   },
   "outputs": [],
   "source": [
    "#non_seg_training_data = RSNAImgArrayGenerator(non_seg_train_ids,train_images)"
   ]
  },
  {
   "cell_type": "code",
   "execution_count": 17,
   "id": "72ec3e15",
   "metadata": {
    "execution": {
     "iopub.execute_input": "2023-11-28T07:41:53.103597Z",
     "iopub.status.busy": "2023-11-28T07:41:53.102667Z",
     "iopub.status.idle": "2023-11-28T07:41:53.111378Z",
     "shell.execute_reply": "2023-11-28T07:41:53.110582Z"
    },
    "papermill": {
     "duration": 0.023998,
     "end_time": "2023-11-28T07:41:53.113663",
     "exception": false,
     "start_time": "2023-11-28T07:41:53.089665",
     "status": "completed"
    },
    "tags": []
   },
   "outputs": [],
   "source": [
    "#Fetch training data for study ids who doesn't have segmentation images\n",
    "non_seg_train_data = train_data[train_data['StudyInstanceUID'].isin(non_seg_train_ids)]"
   ]
  },
  {
   "cell_type": "code",
   "execution_count": 18,
   "id": "ab0d0735",
   "metadata": {
    "execution": {
     "iopub.execute_input": "2023-11-28T07:41:53.138734Z",
     "iopub.status.busy": "2023-11-28T07:41:53.138338Z",
     "iopub.status.idle": "2023-11-28T07:41:53.150483Z",
     "shell.execute_reply": "2023-11-28T07:41:53.149469Z"
    },
    "papermill": {
     "duration": 0.027057,
     "end_time": "2023-11-28T07:41:53.152570",
     "exception": false,
     "start_time": "2023-11-28T07:41:53.125513",
     "status": "completed"
    },
    "tags": []
   },
   "outputs": [
    {
     "data": {
      "text/html": [
       "<div>\n",
       "<style scoped>\n",
       "    .dataframe tbody tr th:only-of-type {\n",
       "        vertical-align: middle;\n",
       "    }\n",
       "\n",
       "    .dataframe tbody tr th {\n",
       "        vertical-align: top;\n",
       "    }\n",
       "\n",
       "    .dataframe thead th {\n",
       "        text-align: right;\n",
       "    }\n",
       "</style>\n",
       "<table border=\"1\" class=\"dataframe\">\n",
       "  <thead>\n",
       "    <tr style=\"text-align: right;\">\n",
       "      <th></th>\n",
       "      <th>StudyInstanceUID</th>\n",
       "      <th>patient_overall</th>\n",
       "      <th>C1</th>\n",
       "      <th>C2</th>\n",
       "      <th>C3</th>\n",
       "      <th>C4</th>\n",
       "      <th>C5</th>\n",
       "      <th>C6</th>\n",
       "      <th>C7</th>\n",
       "    </tr>\n",
       "  </thead>\n",
       "  <tbody>\n",
       "    <tr>\n",
       "      <th>0</th>\n",
       "      <td>1.2.826.0.1.3680043.6200</td>\n",
       "      <td>1</td>\n",
       "      <td>1</td>\n",
       "      <td>1</td>\n",
       "      <td>0</td>\n",
       "      <td>0</td>\n",
       "      <td>0</td>\n",
       "      <td>0</td>\n",
       "      <td>0</td>\n",
       "    </tr>\n",
       "    <tr>\n",
       "      <th>1</th>\n",
       "      <td>1.2.826.0.1.3680043.27262</td>\n",
       "      <td>1</td>\n",
       "      <td>0</td>\n",
       "      <td>1</td>\n",
       "      <td>0</td>\n",
       "      <td>0</td>\n",
       "      <td>0</td>\n",
       "      <td>0</td>\n",
       "      <td>0</td>\n",
       "    </tr>\n",
       "  </tbody>\n",
       "</table>\n",
       "</div>"
      ],
      "text/plain": [
       "            StudyInstanceUID  patient_overall  C1  C2  C3  C4  C5  C6  C7\n",
       "0   1.2.826.0.1.3680043.6200                1   1   1   0   0   0   0   0\n",
       "1  1.2.826.0.1.3680043.27262                1   0   1   0   0   0   0   0"
      ]
     },
     "execution_count": 18,
     "metadata": {},
     "output_type": "execute_result"
    }
   ],
   "source": [
    "non_seg_train_data.head(2)"
   ]
  },
  {
   "cell_type": "code",
   "execution_count": 19,
   "id": "068a310e",
   "metadata": {
    "execution": {
     "iopub.execute_input": "2023-11-28T07:41:53.178108Z",
     "iopub.status.busy": "2023-11-28T07:41:53.177729Z",
     "iopub.status.idle": "2023-11-28T07:50:32.560064Z",
     "shell.execute_reply": "2023-11-28T07:50:32.559010Z"
    },
    "papermill": {
     "duration": 519.398334,
     "end_time": "2023-11-28T07:50:32.562726",
     "exception": false,
     "start_time": "2023-11-28T07:41:53.164392",
     "status": "completed"
    },
    "tags": []
   },
   "outputs": [
    {
     "name": "stderr",
     "output_type": "stream",
     "text": [
      "100%|██████████| 29832/29832 [08:37<00:00, 57.64it/s]\n"
     ]
    }
   ],
   "source": [
    "#Convert train images of segmented studyids to array\n",
    "X_seg,y_seg = ImgDataGenerator(seg_labels,train_images)"
   ]
  },
  {
   "cell_type": "code",
   "execution_count": 20,
   "id": "4927fca7",
   "metadata": {
    "execution": {
     "iopub.execute_input": "2023-11-28T07:50:33.304587Z",
     "iopub.status.busy": "2023-11-28T07:50:33.303924Z",
     "iopub.status.idle": "2023-11-28T07:50:44.080100Z",
     "shell.execute_reply": "2023-11-28T07:50:44.079246Z"
    },
    "papermill": {
     "duration": 11.150574,
     "end_time": "2023-11-28T07:50:44.082600",
     "exception": false,
     "start_time": "2023-11-28T07:50:32.932026",
     "status": "completed"
    },
    "tags": []
   },
   "outputs": [],
   "source": [
    "#save for future use\n",
    "np.save('/kaggle/working/seg_train_images.npy',X_seg)\n",
    "np.save('/kaggle/working/seg_train_images_labels.npy',y_seg)"
   ]
  },
  {
   "cell_type": "code",
   "execution_count": 21,
   "id": "fbc6e993",
   "metadata": {
    "execution": {
     "iopub.execute_input": "2023-11-28T07:50:53.824858Z",
     "iopub.status.busy": "2023-11-28T07:50:53.824455Z",
     "iopub.status.idle": "2023-11-28T07:50:53.829033Z",
     "shell.execute_reply": "2023-11-28T07:50:53.828009Z"
    },
    "papermill": {
     "duration": 0.458141,
     "end_time": "2023-11-28T07:50:53.831136",
     "exception": false,
     "start_time": "2023-11-28T07:50:53.372995",
     "status": "completed"
    },
    "tags": []
   },
   "outputs": [],
   "source": [
    "#Uncomment this if you want to use the above output in the next run\n",
    "#X_seg = np.load(r'/kaggle/input/identify-vertbrae-using-cnn/seg_train_images.npy')\n",
    "#y_seg = np.load(r'/kaggle/input/identify-vertbrae-using-cnn/seg_train_images_labels.npy')"
   ]
  },
  {
   "cell_type": "code",
   "execution_count": 22,
   "id": "949bc11b",
   "metadata": {
    "execution": {
     "iopub.execute_input": "2023-11-28T07:50:54.776441Z",
     "iopub.status.busy": "2023-11-28T07:50:54.775751Z",
     "iopub.status.idle": "2023-11-28T07:50:54.781877Z",
     "shell.execute_reply": "2023-11-28T07:50:54.780769Z"
    },
    "papermill": {
     "duration": 0.424677,
     "end_time": "2023-11-28T07:50:54.784058",
     "exception": false,
     "start_time": "2023-11-28T07:50:54.359381",
     "status": "completed"
    },
    "tags": []
   },
   "outputs": [
    {
     "name": "stdout",
     "output_type": "stream",
     "text": [
      "(29832, 128, 128, 3) (29832, 7)\n"
     ]
    }
   ],
   "source": [
    "print(X_seg.shape,y_seg.shape)"
   ]
  },
  {
   "cell_type": "code",
   "execution_count": 23,
   "id": "cde35aa5",
   "metadata": {
    "execution": {
     "iopub.execute_input": "2023-11-28T07:50:55.547729Z",
     "iopub.status.busy": "2023-11-28T07:50:55.546939Z",
     "iopub.status.idle": "2023-11-28T07:50:55.922909Z",
     "shell.execute_reply": "2023-11-28T07:50:55.921897Z"
    },
    "papermill": {
     "duration": 0.753968,
     "end_time": "2023-11-28T07:50:55.925124",
     "exception": false,
     "start_time": "2023-11-28T07:50:55.171156",
     "status": "completed"
    },
    "tags": []
   },
   "outputs": [
    {
     "data": {
      "text/plain": [
       "<matplotlib.image.AxesImage at 0x78bd2f659420>"
      ]
     },
     "execution_count": 23,
     "metadata": {},
     "output_type": "execute_result"
    },
    {
     "data": {
      "image/png": "[encoded data removed]",
      "text/plain": [
       "<Figure size 640x480 with 1 Axes>"
      ]
     },
     "metadata": {},
     "output_type": "display_data"
    }
   ],
   "source": [
    "#Visualize a random CT scan image\n",
    "import matplotlib.pyplot as plt\n",
    "plt.imshow(X_seg[500], cmap = 'bone')"
   ]
  },
  {
   "cell_type": "code",
   "execution_count": 24,
   "id": "c3515533",
   "metadata": {
    "execution": {
     "iopub.execute_input": "2023-11-28T07:50:56.677788Z",
     "iopub.status.busy": "2023-11-28T07:50:56.677390Z",
     "iopub.status.idle": "2023-11-28T07:50:56.684008Z",
     "shell.execute_reply": "2023-11-28T07:50:56.683110Z"
    },
    "papermill": {
     "duration": 0.385116,
     "end_time": "2023-11-28T07:50:56.686088",
     "exception": false,
     "start_time": "2023-11-28T07:50:56.300972",
     "status": "completed"
    },
    "tags": []
   },
   "outputs": [
    {
     "data": {
      "text/plain": [
       "array([0, 0, 1, 1, 0, 0, 0])"
      ]
     },
     "execution_count": 24,
     "metadata": {},
     "output_type": "execute_result"
    }
   ],
   "source": [
    "#Find its segmentation value. \n",
    "y_seg[500]\n",
    "#The above slice represents cervicals C3 and C4"
   ]
  },
  {
   "cell_type": "code",
   "execution_count": 25,
   "id": "ce56a62f",
   "metadata": {
    "execution": {
     "iopub.execute_input": "2023-11-28T07:50:57.509562Z",
     "iopub.status.busy": "2023-11-28T07:50:57.508873Z",
     "iopub.status.idle": "2023-11-28T07:50:57.518382Z",
     "shell.execute_reply": "2023-11-28T07:50:57.517464Z"
    },
    "papermill": {
     "duration": 0.384817,
     "end_time": "2023-11-28T07:50:57.520396",
     "exception": false,
     "start_time": "2023-11-28T07:50:57.135579",
     "status": "completed"
    },
    "tags": []
   },
   "outputs": [],
   "source": [
    "def get_basic_cnn():\n",
    "    \n",
    "    '''Basic Convolutional Neural Network to train segmentation CT scan images'''\n",
    "    \n",
    "    \n",
    "    inp = tfl.Input((128, 128 ,3))\n",
    "    x = tfl.Conv2D(32, (3, 3), activation='relu')(inp)\n",
    "    x = tfl.MaxPooling2D((2, 2))(x)\n",
    "    x = tfl.Conv2D(64, (3, 3), activation='relu')(inp)\n",
    "    x = tfl.MaxPooling2D((2, 2))(x)\n",
    "    x = tfl.Conv2D(128, (3, 3), activation='relu')(inp)\n",
    "    x = tfl.MaxPooling2D((2, 2))(x)\n",
    "    x = tfl.Flatten()(x)\n",
    "    x = tfl.Dense(128, 'relu')(x)\n",
    "    x = tfl.Dropout(0.5)(x)\n",
    "    out = tfl.Dense(7, 'sigmoid')(x)\n",
    "    \n",
    "    model = tf.keras.models.Model(inp, out)\n",
    "    \n",
    "    model.compile(loss=\"binary_crossentropy\",\n",
    "                  optimizer = tf.keras.optimizers.Adam(learning_rate = 1e-4),\n",
    "                  metrics=[tf.keras.metrics.BinaryAccuracy()])\n",
    "    model.summary()\n",
    "    \n",
    "    return model\n",
    "\n",
    "#recall, precision. Way to use softmax [1,0,0,0,1,0,0] -> [0.5,0,0,0,0.5,0,0]"
   ]
  },
  {
   "cell_type": "code",
   "execution_count": 26,
   "id": "57020beb",
   "metadata": {
    "execution": {
     "iopub.execute_input": "2023-11-28T07:50:58.265608Z",
     "iopub.status.busy": "2023-11-28T07:50:58.265226Z",
     "iopub.status.idle": "2023-11-28T07:51:03.959500Z",
     "shell.execute_reply": "2023-11-28T07:51:03.958322Z"
    },
    "papermill": {
     "duration": 6.070648,
     "end_time": "2023-11-28T07:51:03.962588",
     "exception": false,
     "start_time": "2023-11-28T07:50:57.891940",
     "status": "completed"
    },
    "tags": []
   },
   "outputs": [],
   "source": [
    "X_train, X_test, y_train, y_test = train_test_split(X_seg, y_seg, random_state=42, test_size=0.1)"
   ]
  },
  {
   "cell_type": "code",
   "execution_count": 27,
   "id": "248b2ac2",
   "metadata": {
    "execution": {
     "iopub.execute_input": "2023-11-28T07:51:04.723346Z",
     "iopub.status.busy": "2023-11-28T07:51:04.722955Z",
     "iopub.status.idle": "2023-11-28T07:51:04.728242Z",
     "shell.execute_reply": "2023-11-28T07:51:04.727324Z"
    },
    "papermill": {
     "duration": 0.383986,
     "end_time": "2023-11-28T07:51:04.730543",
     "exception": false,
     "start_time": "2023-11-28T07:51:04.346557",
     "status": "completed"
    },
    "tags": []
   },
   "outputs": [
    {
     "name": "stdout",
     "output_type": "stream",
     "text": [
      "(26848, 128, 128, 3) (26848, 7)\n",
      "(2984, 128, 128, 3) (2984, 7)\n"
     ]
    }
   ],
   "source": [
    "print(X_train.shape,y_train.shape)\n",
    "print(X_test.shape,y_test.shape)"
   ]
  },
  {
   "cell_type": "code",
   "execution_count": 28,
   "id": "399d5b7f",
   "metadata": {
    "execution": {
     "iopub.execute_input": "2023-11-28T07:51:05.553616Z",
     "iopub.status.busy": "2023-11-28T07:51:05.553252Z",
     "iopub.status.idle": "2023-11-28T07:51:08.610145Z",
     "shell.execute_reply": "2023-11-28T07:51:08.608958Z"
    },
    "papermill": {
     "duration": 3.489538,
     "end_time": "2023-11-28T07:51:08.619076",
     "exception": false,
     "start_time": "2023-11-28T07:51:05.129538",
     "status": "completed"
    },
    "tags": []
   },
   "outputs": [
    {
     "name": "stdout",
     "output_type": "stream",
     "text": [
      "Model: \"model\"\n",
      "_________________________________________________________________\n",
      " Layer (type)                Output Shape              Param #   \n",
      "=================================================================\n",
      " input_1 (InputLayer)        [(None, 128, 128, 3)]     0         \n",
      "                                                                 \n",
      " conv2d_2 (Conv2D)           (None, 126, 126, 128)     3584      \n",
      "                                                                 \n",
      " max_pooling2d_2 (MaxPooling  (None, 63, 63, 128)      0         \n",
      " 2D)                                                             \n",
      "                                                                 \n",
      " flatten (Flatten)           (None, 508032)            0         \n",
      "                                                                 \n",
      " dense (Dense)               (None, 128)               65028224  \n",
      "                                                                 \n",
      " dropout (Dropout)           (None, 128)               0         \n",
      "                                                                 \n",
      " dense_1 (Dense)             (None, 7)                 903       \n",
      "                                                                 \n",
      "=================================================================\n",
      "Total params: 65,032,711\n",
      "Trainable params: 65,032,711\n",
      "Non-trainable params: 0\n",
      "_________________________________________________________________\n"
     ]
    }
   ],
   "source": [
    "model = get_basic_cnn()"
   ]
  },
  {
   "cell_type": "code",
   "execution_count": 29,
   "id": "a867e7eb",
   "metadata": {
    "execution": {
     "iopub.execute_input": "2023-11-28T07:51:09.378612Z",
     "iopub.status.busy": "2023-11-28T07:51:09.377604Z",
     "iopub.status.idle": "2023-11-28T07:53:53.316223Z",
     "shell.execute_reply": "2023-11-28T07:53:53.315325Z"
    },
    "papermill": {
     "duration": 164.326193,
     "end_time": "2023-11-28T07:53:53.318480",
     "exception": false,
     "start_time": "2023-11-28T07:51:08.992287",
     "status": "completed"
    },
    "tags": []
   },
   "outputs": [
    {
     "name": "stdout",
     "output_type": "stream",
     "text": [
      "Epoch 1/10\n",
      "420/420 [==============================] - 24s 36ms/step - loss: 0.3887 - binary_accuracy: 0.8359 - val_loss: 0.2913 - val_binary_accuracy: 0.8637\n",
      "Epoch 2/10\n",
      "420/420 [==============================] - 14s 34ms/step - loss: 0.3030 - binary_accuracy: 0.8662 - val_loss: 0.2449 - val_binary_accuracy: 0.8863\n",
      "Epoch 3/10\n",
      "420/420 [==============================] - 14s 34ms/step - loss: 0.2614 - binary_accuracy: 0.8819 - val_loss: 0.2096 - val_binary_accuracy: 0.9057\n",
      "Epoch 4/10\n",
      "420/420 [==============================] - 14s 34ms/step - loss: 0.2284 - binary_accuracy: 0.8975 - val_loss: 0.1789 - val_binary_accuracy: 0.9202\n",
      "Epoch 5/10\n",
      "420/420 [==============================] - 14s 34ms/step - loss: 0.2040 - binary_accuracy: 0.9102 - val_loss: 0.1546 - val_binary_accuracy: 0.9411\n",
      "Epoch 6/10\n",
      "420/420 [==============================] - 14s 34ms/step - loss: 0.1840 - binary_accuracy: 0.9200 - val_loss: 0.1397 - val_binary_accuracy: 0.9424\n",
      "Epoch 7/10\n",
      "420/420 [==============================] - 14s 34ms/step - loss: 0.1683 - binary_accuracy: 0.9276 - val_loss: 0.1211 - val_binary_accuracy: 0.9621\n",
      "Epoch 8/10\n",
      "420/420 [==============================] - 14s 34ms/step - loss: 0.1552 - binary_accuracy: 0.9336 - val_loss: 0.1083 - val_binary_accuracy: 0.9659\n",
      "Epoch 9/10\n",
      "420/420 [==============================] - 14s 34ms/step - loss: 0.1438 - binary_accuracy: 0.9392 - val_loss: 0.0989 - val_binary_accuracy: 0.9659\n",
      "Epoch 10/10\n",
      "420/420 [==============================] - 14s 34ms/step - loss: 0.1338 - binary_accuracy: 0.9444 - val_loss: 0.0891 - val_binary_accuracy: 0.9747\n"
     ]
    },
    {
     "data": {
      "text/plain": [
       "<keras.callbacks.History at 0x78bd2d44ea10>"
      ]
     },
     "execution_count": 29,
     "metadata": {},
     "output_type": "execute_result"
    }
   ],
   "source": [
    "model.fit(X_train, y_train, epochs=10, validation_data=(X_test, y_test), batch_size=64)"
   ]
  },
  {
   "cell_type": "code",
   "execution_count": 30,
   "id": "80ea54e4",
   "metadata": {
    "execution": {
     "iopub.execute_input": "2023-11-28T07:53:54.418333Z",
     "iopub.status.busy": "2023-11-28T07:53:54.417949Z",
     "iopub.status.idle": "2023-11-28T07:53:56.052437Z",
     "shell.execute_reply": "2023-11-28T07:53:56.051402Z"
    },
    "papermill": {
     "duration": 2.184297,
     "end_time": "2023-11-28T07:53:56.054773",
     "exception": false,
     "start_time": "2023-11-28T07:53:53.870476",
     "status": "completed"
    },
    "tags": []
   },
   "outputs": [
    {
     "name": "stdout",
     "output_type": "stream",
     "text": [
      "94/94 [==============================] - 1s 7ms/step\n"
     ]
    }
   ],
   "source": [
    "y_hat = model.predict(X_test)"
   ]
  },
  {
   "cell_type": "code",
   "execution_count": 31,
   "id": "cc430488",
   "metadata": {
    "execution": {
     "iopub.execute_input": "2023-11-28T07:53:57.223786Z",
     "iopub.status.busy": "2023-11-28T07:53:57.223388Z",
     "iopub.status.idle": "2023-11-28T07:53:59.191975Z",
     "shell.execute_reply": "2023-11-28T07:53:59.190961Z"
    },
    "papermill": {
     "duration": 2.526862,
     "end_time": "2023-11-28T07:53:59.194487",
     "exception": false,
     "start_time": "2023-11-28T07:53:56.667625",
     "status": "completed"
    },
    "tags": []
   },
   "outputs": [
    {
     "name": "stdout",
     "output_type": "stream",
     "text": [
      "94/94 [==============================] - 1s 8ms/step - loss: 0.0891 - binary_accuracy: 0.9747\n"
     ]
    }
   ],
   "source": [
    "score = model.evaluate(X_test, y_test, verbose = 1)"
   ]
  },
  {
   "cell_type": "code",
   "execution_count": 32,
   "id": "2eb338bd",
   "metadata": {
    "execution": {
     "iopub.execute_input": "2023-11-28T07:54:00.350599Z",
     "iopub.status.busy": "2023-11-28T07:54:00.349832Z",
     "iopub.status.idle": "2023-11-28T07:54:00.354798Z",
     "shell.execute_reply": "2023-11-28T07:54:00.354083Z"
    },
    "papermill": {
     "duration": 0.5661,
     "end_time": "2023-11-28T07:54:00.357350",
     "exception": false,
     "start_time": "2023-11-28T07:53:59.791250",
     "status": "completed"
    },
    "tags": []
   },
   "outputs": [
    {
     "name": "stdout",
     "output_type": "stream",
     "text": [
      "Test loss: 0.08914126455783844\n",
      "Test accuracy: 0.9746744632720947\n"
     ]
    }
   ],
   "source": [
    "print('Test loss:', score[0]) \n",
    "print('Test accuracy:', score[1])"
   ]
  },
  {
   "cell_type": "code",
   "execution_count": 33,
   "id": "54916e94",
   "metadata": {
    "execution": {
     "iopub.execute_input": "2023-11-28T07:54:01.512303Z",
     "iopub.status.busy": "2023-11-28T07:54:01.511924Z",
     "iopub.status.idle": "2023-11-28T07:54:01.592296Z",
     "shell.execute_reply": "2023-11-28T07:54:01.591425Z"
    },
    "papermill": {
     "duration": 0.635381,
     "end_time": "2023-11-28T07:54:01.594499",
     "exception": false,
     "start_time": "2023-11-28T07:54:00.959118",
     "status": "completed"
    },
    "tags": []
   },
   "outputs": [
    {
     "name": "stdout",
     "output_type": "stream",
     "text": [
      "1/1 [==============================] - 0s 34ms/step\n"
     ]
    }
   ],
   "source": [
    "classes = np.array(seg_labels.columns[2:-1])\n",
    "img = X_test[17]\n",
    "\n",
    "proba = model.predict(img.reshape(1,128,128,3))"
   ]
  },
  {
   "cell_type": "code",
   "execution_count": 34,
   "id": "a5134bea",
   "metadata": {
    "execution": {
     "iopub.execute_input": "2023-11-28T07:54:02.724130Z",
     "iopub.status.busy": "2023-11-28T07:54:02.723241Z",
     "iopub.status.idle": "2023-11-28T07:54:02.730059Z",
     "shell.execute_reply": "2023-11-28T07:54:02.729165Z"
    },
    "papermill": {
     "duration": 0.577519,
     "end_time": "2023-11-28T07:54:02.732023",
     "exception": false,
     "start_time": "2023-11-28T07:54:02.154504",
     "status": "completed"
    },
    "tags": []
   },
   "outputs": [
    {
     "data": {
      "text/plain": [
       "array([3, 4, 2, 1, 5, 0, 6])"
      ]
     },
     "execution_count": 34,
     "metadata": {},
     "output_type": "execute_result"
    }
   ],
   "source": [
    "#Fetches the probability value for each class in a sorted order\n",
    "np.argsort(proba[0]) "
   ]
  },
  {
   "cell_type": "code",
   "execution_count": 35,
   "id": "5f19db47",
   "metadata": {
    "execution": {
     "iopub.execute_input": "2023-11-28T07:54:03.891125Z",
     "iopub.status.busy": "2023-11-28T07:54:03.890747Z",
     "iopub.status.idle": "2023-11-28T07:54:03.895292Z",
     "shell.execute_reply": "2023-11-28T07:54:03.894382Z"
    },
    "papermill": {
     "duration": 0.559784,
     "end_time": "2023-11-28T07:54:03.897384",
     "exception": false,
     "start_time": "2023-11-28T07:54:03.337600",
     "status": "completed"
    },
    "tags": []
   },
   "outputs": [],
   "source": [
    "#When I try to generate non_seg_image array for predictions, the notebook ran out of memory. Will be\n",
    "#fixed in future iteration\n",
    "\n",
    "# non_seg_data = train_data[~train_data['StudyInstanceUID'].isin(seg_labels['StudyInstanceUID'])]\n",
    "\n",
    "# X_non_seg = RSNADFGenerator(non_seg_data,train_images)"
   ]
  },
  {
   "cell_type": "code",
   "execution_count": 36,
   "id": "1eeabe0a",
   "metadata": {
    "execution": {
     "iopub.execute_input": "2023-11-28T07:54:05.027645Z",
     "iopub.status.busy": "2023-11-28T07:54:05.027266Z",
     "iopub.status.idle": "2023-11-28T07:54:05.033406Z",
     "shell.execute_reply": "2023-11-28T07:54:05.032354Z"
    },
    "papermill": {
     "duration": 0.584525,
     "end_time": "2023-11-28T07:54:05.035712",
     "exception": false,
     "start_time": "2023-11-28T07:54:04.451187",
     "status": "completed"
    },
    "tags": []
   },
   "outputs": [],
   "source": [
    "#Code for future purpose \n",
    "# accuracies=[]\n",
    "# for train_idx, val_idx in StratifiedKFold(5).split(df_train, df_train['patient_overall']):    \n",
    "#     K.clear_session()\n",
    "#     x_train = df_train.iloc[train_idx].reset_index()\n",
    "#     x_val = df_train.iloc[val_idx].reset_index()\n",
    "\n",
    "#     train_gen = RSNATrainGenerator(x_train, min(len(x_train), 64), infinite = False, base_path = train_images_dir)\n",
    "#     val_gen = RSNATrainGenerator(x_val, min(len(x_val), 64), infinite = False, base_path = train_images_dir)\n",
    "\n",
    "#     model = get_basic_cnn()\n",
    "#     print(\"validation steps: \",(len(x_val) // 64), \"steps_per_epoch: \",(len(x_train) // 64))\n",
    "\n",
    "#     hist = model.fit(                            \n",
    "#         train_gen,\n",
    "#         epochs = 5,\n",
    "#         callbacks = [tf.keras.callbacks.EarlyStopping(monitor = 'val_loss', patience = 2, restore_best_weights = True)],\n",
    "#         validation_steps = max((len(x_val) // 64), 1),\n",
    "#         steps_per_epoch = max((len(x_train) // 64), 1),\n",
    "#         validation_data = val_gen\n",
    "#       )\n",
    "\n",
    "#     #hist2 = model2.fit_generator(                            \n",
    "#     #    train_gen,\n",
    "#     #    epochs = 5,\n",
    "#     #    callbacks = [tf.keras.callbacks.EarlyStopping(monitor = 'val_loss', patience = 2, restore_best_weights = True)],\n",
    "#     #    validation_steps = max((len(x_val) // 64), 1),\n",
    "#     #    steps_per_epoch = max((len(x_train) // 64), 1),\n",
    "#     #    validation_data = val_gen,\n",
    "#     #  )\n",
    "#     accuracies.append(model.evaluate(val_gen, steps = max((len(x_val) // 64), 1))[1])"
   ]
  },
  {
   "cell_type": "code",
   "execution_count": 37,
   "id": "4fb9c537",
   "metadata": {
    "execution": {
     "iopub.execute_input": "2023-11-28T07:54:06.201248Z",
     "iopub.status.busy": "2023-11-28T07:54:06.200478Z",
     "iopub.status.idle": "2023-11-28T07:54:06.204943Z",
     "shell.execute_reply": "2023-11-28T07:54:06.204039Z"
    },
    "papermill": {
     "duration": 0.564536,
     "end_time": "2023-11-28T07:54:06.206962",
     "exception": false,
     "start_time": "2023-11-28T07:54:05.642426",
     "status": "completed"
    },
    "tags": []
   },
   "outputs": [],
   "source": [
    "# model.fit(X_train, y_train, epochs=10, validation_data=(X_test, y_test), batch_size=64)"
   ]
  }
 ],
 "metadata": {
  "kaggle": {
   "accelerator": "gpu",
   "dataSources": [
    {
     "databundleVersionId": 4050810,
     "sourceId": 36363,
     "sourceType": "competition"
    },
    {
     "datasetId": 2373279,
     "sourceId": 5718655,
     "sourceType": "datasetVersion"
    },
    {
     "datasetId": 3802375,
     "sourceId": 6587064,
     "sourceType": "datasetVersion"
    },
    {
     "datasetId": 3878164,
     "sourceId": 6733646,
     "sourceType": "datasetVersion"
    },
    {
     "sourceId": 148532580,
     "sourceType": "kernelVersion"
    }
   ],
   "dockerImageVersionId": 30558,
   "isGpuEnabled": true,
   "isInternetEnabled": true,
   "language": "python",
   "sourceType": "notebook"
  },
  "kernelspec": {
   "display_name": "Python 3",
   "language": "python",
   "name": "python3"
  },
  "language_info": {
   "codemirror_mode": {
    "name": "ipython",
    "version": 3
   },
   "file_extension": ".py",
   "mimetype": "text/x-python",
   "name": "python",
   "nbconvert_exporter": "python",
   "pygments_lexer": "ipython3",
   "version": "3.10.12"
  },
  "papermill": {
   "default_parameters": {},
   "duration": 772.345961,
   "end_time": "2023-11-28T07:54:10.334621",
   "environment_variables": {},
   "exception": null,
   "input_path": "__notebook__.ipynb",
   "output_path": "__notebook__.ipynb",
   "parameters": {},
   "start_time": "2023-11-28T07:41:17.988660",
   "version": "2.4.0"
  }
 },
 "nbformat": 4,
 "nbformat_minor": 5
}
